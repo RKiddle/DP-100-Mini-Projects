{
 "cells": [
  {
   "cell_type": "markdown",
   "metadata": {
    "nteract": {
     "transient": {
      "deleting": false
     }
    }
   },
   "source": []
  },
  {
   "cell_type": "code",
   "execution_count": 15,
   "metadata": {
    "gather": {
     "logged": 1758279625291
    }
   },
   "outputs": [],
   "source": [
    "# 1️⃣ Connect to Azure ML workspace\n",
    "from azure.identity import DefaultAzureCredential\n",
    "from azure.ai.ml import MLClient, automl, Input\n",
    "from azure.ai.ml.constants import AssetTypes\n",
    "\n",
    "subscription_id = \"SUBSCRIPTION ID\"\n",
    "resource_group = \"RESOURCE GROUP\"\n",
    "workspace_name = \"WORKPLACE NAME\"\n",
    "\n",
    "ml_client = MLClient(\n",
    "    DefaultAzureCredential(),\n",
    "    subscription_id,\n",
    "    resource_group,\n",
    "    workspace_name\n",
    ")\n",
    "\n"
   ]
  },
  {
   "cell_type": "code",
   "execution_count": 40,
   "metadata": {
    "gather": {
     "logged": 1758283554210
    }
   },
   "outputs": [],
   "source": [
    "from azure.ai.ml.constants import AssetTypes\n",
    "from azure.ai.ml import Input\n",
    "\n",
    "# Example: using the correct version from Studio\n",
    "train_input = Input(\n",
    "    type=AssetTypes.MLTABLE,\n",
    "    path=\"azureml:foodpanda_processed:1\"  # match exactly\n",
    ")\n"
   ]
  },
  {
   "cell_type": "code",
   "execution_count": 38,
   "metadata": {
    "gather": {
     "logged": 1758283448305
    }
   },
   "outputs": [
    {
     "name": "stdout",
     "output_type": "stream",
     "text": [
      "foodpanda_processed 1\n"
     ]
    }
   ],
   "source": [
    "assets = ml_client.data.list(name=\"foodpanda_processed\")\n",
    "for a in assets:\n",
    "    print(a.name, a.version)\n"
   ]
  },
  {
   "cell_type": "code",
   "execution_count": 41,
   "metadata": {
    "gather": {
     "logged": 1758283559101
    }
   },
   "outputs": [
    {
     "name": "stderr",
     "output_type": "stream",
     "text": [
      "Found the config file in: /config.json\n"
     ]
    },
    {
     "name": "stdout",
     "output_type": "stream",
     "text": [
      "  StoreId                  createdAt  \\\n",
      "0    zn0n  2023-12-15T14:51:52+00:00   \n",
      "1    geap  2023-07-14T14:37:05+00:00   \n",
      "2    wej9  2024-01-16T11:10:25+00:00   \n",
      "3    p5qy  2024-01-03T13:07:22+00:00   \n",
      "4    g2iw  2023-07-09T10:16:59+00:00   \n",
      "\n",
      "                                                text  isAnonymous  \\\n",
      "0                         Best food ever. Literally!        False   \n",
      "1  The meat was far INFERIOR to what I expected.....        False   \n",
      "2  อร่อย หมูกรอบสับชิ้นใหญ่ค่ะ ชอบ แถมให้ซอสซีอิ้...        False   \n",
      "3  Ordered pad thai without kung heng. In thai. T...        False   \n",
      "4  ข้าวมันไก่อร่อยมากค่ะ ชอบที่กลิ่นไก่ไม่แรง \\nเ...        False   \n",
      "\n",
      "                                             replies  likeCount  isLiked  \\\n",
      "0                                                 []        0.0    False   \n",
      "1                                                 []        0.0    False   \n",
      "2  [{'id': '000228c7-1cae-4309-b796-0de063c39092'...        0.0    False   \n",
      "3                                                 []        0.0    False   \n",
      "4                                                 []        0.0    False   \n",
      "\n",
      "   overall  restaurant_food  rider  likeCount_capped  replies_count sentiment  \\\n",
      "0        5                5    NaN               0.0              0  positive   \n",
      "1        3                3    5.0               0.0              0   neutral   \n",
      "2        5                5    NaN               0.0              1  positive   \n",
      "3        3                3    NaN               0.0              0   neutral   \n",
      "4        5                5    NaN               0.0              0  positive   \n",
      "\n",
      "   created_year  created_month  created_dow  created_hour  \n",
      "0          2023             12            4            14  \n",
      "1          2023              7            4            14  \n",
      "2          2024              1            1            11  \n",
      "3          2024              1            2            13  \n",
      "4          2023              7            6            10  \n"
     ]
    }
   ],
   "source": [
    "from mltable import load\n",
    "df = load(\"azureml:foodpanda_processed:1\").to_pandas_dataframe()\n",
    "print(df.head())\n"
   ]
  },
  {
   "cell_type": "code",
   "execution_count": null,
   "metadata": {},
   "outputs": [],
   "source": [
    "from azure.ai.ml import automl, Input\n",
    "from azure.ai.ml.constants import AssetTypes\n",
    "\n",
    "train_input = Input(\n",
    "    type=AssetTypes.MLTABLE,\n",
    "    path=\"azureml:foodpanda_processed:1\"\n",
    ")\n",
    "\n",
    "tab_job = automl.classification(\n",
    "    compute=\"cpu-spot-s\",\n",
    "    experiment_name=\"week2_sentiment_explorer\",\n",
    "    training_data=train_input,\n",
    "    target_column_name=\"sentiment\",\n",
    "    primary_metric=\"accuracy\",\n",
    "    featurization=\"auto\",  # enable featurization\n",
    "    featurization_settings={\n",
    "        \"datetime_columns\": [\"createdAt\"]  # force AutoML to parse as datetime\n",
    "    },\n",
    "    tags={\"project\": \"sentiment_explorer\", \"modality\": \"tabular_with_text_and_dates\"}\n",
    ")\n",
    "\n",
    "tab_job.set_limits(timeout_minutes=90, max_trials=12, max_concurrent_trials=1)\n",
    "\n",
    "returned_tab_job = ml_client.jobs.create_or_update(tab_job)\n",
    "print(\"Job submitted:\", returned_tab_job.name)\n"
   ]
  }
 ],
 "metadata": {
  "kernel_info": {
   "name": "python310-sdkv2"
  },
  "kernelspec": {
   "display_name": "Python 3",
   "language": "python",
   "name": "python3"
  },
  "language_info": {
   "codemirror_mode": {
    "name": "ipython",
    "version": 3
   },
   "file_extension": ".py",
   "mimetype": "text/x-python",
   "name": "python",
   "nbconvert_exporter": "python",
   "pygments_lexer": "ipython3",
   "version": "3.12.7"
  },
  "microsoft": {
   "host": {
    "AzureML": {
     "notebookHasBeenCompleted": true
    }
   },
   "ms_spell_check": {
    "ms_spell_check_language": "en"
   }
  },
  "nteract": {
   "version": "nteract-front-end@1.0.0"
  }
 },
 "nbformat": 4,
 "nbformat_minor": 4
}
