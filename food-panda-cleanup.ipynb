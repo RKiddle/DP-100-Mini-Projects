{
 "cells": [
  {
   "cell_type": "code",
   "execution_count": 3,
   "metadata": {
    "gather": {
     "logged": 1758275526655
    }
   },
   "outputs": [
    {
     "name": "stderr",
     "output_type": "stream",
     "text": [
      "/anaconda/envs/azureml_py310_sdkv2/lib/python3.10/site-packages/mlflow/__init__.py:41: UserWarning: Versions of mlflow (3.1.1) and mlflow-skinny (2.22.1) are different. This may lead to unexpected behavior. Please install the same version of both packages.\n",
      "  mlflow.mismatch._check_version_mismatch()\n"
     ]
    },
    {
     "name": "stdout",
     "output_type": "stream",
     "text": [
      "Index(['StoreId', 'uuid', 'createdAt', 'updatedAt', 'text', 'isAnonymous',\n",
      "       'reviewerId', 'replies', 'likeCount', 'isLiked', 'overall',\n",
      "       'restaurant_food', 'rider'],\n",
      "      dtype='object')\n"
     ]
    }
   ],
   "source": [
    "import pandas as pd\n",
    "from azure.ai.ml import MLClient\n",
    "from azure.identity import DefaultAzureCredential\n",
    "\n",
    "ml_client = MLClient(DefaultAzureCredential(), \"SUBSCRIPTION ID\", \"RESOURCE GROUP\", \"WORKPLACE NAME\")\n",
    "data = ml_client.data.get(name=\"foodpanda_reviews_th_en\", version=\"1\")\n",
    "\n",
    "# Load into pandas for inspection\n",
    "df = pd.read_csv(data.path)\n",
    "print(df.columns)\n"
   ]
  },
  {
   "cell_type": "code",
   "execution_count": 4,
   "metadata": {
    "gather": {
     "logged": 1758275737972
    }
   },
   "outputs": [
    {
     "name": "stdout",
     "output_type": "stream",
     "text": [
      "['StoreId', 'uuid', 'createdAt', 'updatedAt', 'text', 'isAnonymous', 'reviewerId', 'replies', 'likeCount', 'isLiked', 'overall', 'restaurant_food', 'rider']\n",
      "StoreId             object\n",
      "uuid                object\n",
      "createdAt           object\n",
      "updatedAt           object\n",
      "text                object\n",
      "isAnonymous           bool\n",
      "reviewerId          object\n",
      "replies             object\n",
      "likeCount          float64\n",
      "isLiked               bool\n",
      "overall              int64\n",
      "restaurant_food      int64\n",
      "rider              float64\n",
      "dtype: object\n",
      "rider          0.518491\n",
      "StoreId        0.000000\n",
      "uuid           0.000000\n",
      "createdAt      0.000000\n",
      "updatedAt      0.000000\n",
      "text           0.000000\n",
      "isAnonymous    0.000000\n",
      "reviewerId     0.000000\n",
      "replies        0.000000\n",
      "likeCount      0.000000\n",
      "dtype: float64\n"
     ]
    },
    {
     "data": {
      "text/html": [
       "<div>\n",
       "<style scoped>\n",
       "    .dataframe tbody tr th:only-of-type {\n",
       "        vertical-align: middle;\n",
       "    }\n",
       "\n",
       "    .dataframe tbody tr th {\n",
       "        vertical-align: top;\n",
       "    }\n",
       "\n",
       "    .dataframe thead th {\n",
       "        text-align: right;\n",
       "    }\n",
       "</style>\n",
       "<table border=\"1\" class=\"dataframe\">\n",
       "  <thead>\n",
       "    <tr style=\"text-align: right;\">\n",
       "      <th></th>\n",
       "      <th>StoreId</th>\n",
       "      <th>uuid</th>\n",
       "      <th>createdAt</th>\n",
       "      <th>updatedAt</th>\n",
       "      <th>text</th>\n",
       "      <th>isAnonymous</th>\n",
       "      <th>reviewerId</th>\n",
       "      <th>replies</th>\n",
       "      <th>likeCount</th>\n",
       "      <th>isLiked</th>\n",
       "      <th>overall</th>\n",
       "      <th>restaurant_food</th>\n",
       "      <th>rider</th>\n",
       "    </tr>\n",
       "  </thead>\n",
       "  <tbody>\n",
       "    <tr>\n",
       "      <th>44962</th>\n",
       "      <td>j6sn</td>\n",
       "      <td>dbe20cda-561e-4845-8027-8bd1f74ecf51</td>\n",
       "      <td>2023-08-14T09:13:38Z</td>\n",
       "      <td>2023-08-14T09:13:38Z</td>\n",
       "      <td>กินกี่ครั้งก็อร่อย</td>\n",
       "      <td>False</td>\n",
       "      <td>thzru9wc</td>\n",
       "      <td>[]</td>\n",
       "      <td>0.0</td>\n",
       "      <td>False</td>\n",
       "      <td>5</td>\n",
       "      <td>5</td>\n",
       "      <td>5.0</td>\n",
       "    </tr>\n",
       "    <tr>\n",
       "      <th>13744</th>\n",
       "      <td>hf3i</td>\n",
       "      <td>4399254b-6bef-4dfb-bef7-7d0b03689668</td>\n",
       "      <td>2023-11-22T13:13:44Z</td>\n",
       "      <td>2023-11-22T13:13:44Z</td>\n",
       "      <td>ผัดกระเพราไม่อร่อยไห้น้อย แต่โรตีอร่อยมาก</td>\n",
       "      <td>False</td>\n",
       "      <td>thall2i7</td>\n",
       "      <td>[]</td>\n",
       "      <td>1.0</td>\n",
       "      <td>False</td>\n",
       "      <td>2</td>\n",
       "      <td>2</td>\n",
       "      <td>NaN</td>\n",
       "    </tr>\n",
       "    <tr>\n",
       "      <th>14861</th>\n",
       "      <td>a9bl</td>\n",
       "      <td>4920e729-3f41-472b-b669-82ba886e76d4</td>\n",
       "      <td>2023-04-14T14:28:41Z</td>\n",
       "      <td>2023-04-14T14:28:41Z</td>\n",
       "      <td>อร่อย แต่รอนานไปหน่อย</td>\n",
       "      <td>False</td>\n",
       "      <td>thlcb8hl</td>\n",
       "      <td>[]</td>\n",
       "      <td>0.0</td>\n",
       "      <td>False</td>\n",
       "      <td>5</td>\n",
       "      <td>5</td>\n",
       "      <td>5.0</td>\n",
       "    </tr>\n",
       "    <tr>\n",
       "      <th>35514</th>\n",
       "      <td>g2iw</td>\n",
       "      <td>ae24fd73-73f9-4f67-957f-afde6eceb487</td>\n",
       "      <td>2024-02-14T05:27:16Z</td>\n",
       "      <td>2024-02-14T05:27:16Z</td>\n",
       "      <td>ให้อย่างเยอะเลยอะ อร่อย แต่ติดเค็มนิดนึง รอนาน...</td>\n",
       "      <td>False</td>\n",
       "      <td>th6811ou</td>\n",
       "      <td>[]</td>\n",
       "      <td>0.0</td>\n",
       "      <td>False</td>\n",
       "      <td>5</td>\n",
       "      <td>5</td>\n",
       "      <td>5.0</td>\n",
       "    </tr>\n",
       "    <tr>\n",
       "      <th>32680</th>\n",
       "      <td>bkgx</td>\n",
       "      <td>a014d1a0-ea6b-4cad-af86-586c122b2c97</td>\n",
       "      <td>2023-10-24T03:28:20Z</td>\n",
       "      <td>2023-10-24T03:28:20Z</td>\n",
       "      <td>บานอฟฟี่อร่อยย</td>\n",
       "      <td>False</td>\n",
       "      <td>thv5qk37</td>\n",
       "      <td>[]</td>\n",
       "      <td>0.0</td>\n",
       "      <td>False</td>\n",
       "      <td>5</td>\n",
       "      <td>5</td>\n",
       "      <td>NaN</td>\n",
       "    </tr>\n",
       "  </tbody>\n",
       "</table>\n",
       "</div>"
      ],
      "text/plain": [
       "      StoreId                                  uuid             createdAt  \\\n",
       "44962    j6sn  dbe20cda-561e-4845-8027-8bd1f74ecf51  2023-08-14T09:13:38Z   \n",
       "13744    hf3i  4399254b-6bef-4dfb-bef7-7d0b03689668  2023-11-22T13:13:44Z   \n",
       "14861    a9bl  4920e729-3f41-472b-b669-82ba886e76d4  2023-04-14T14:28:41Z   \n",
       "35514    g2iw  ae24fd73-73f9-4f67-957f-afde6eceb487  2024-02-14T05:27:16Z   \n",
       "32680    bkgx  a014d1a0-ea6b-4cad-af86-586c122b2c97  2023-10-24T03:28:20Z   \n",
       "\n",
       "                  updatedAt  \\\n",
       "44962  2023-08-14T09:13:38Z   \n",
       "13744  2023-11-22T13:13:44Z   \n",
       "14861  2023-04-14T14:28:41Z   \n",
       "35514  2024-02-14T05:27:16Z   \n",
       "32680  2023-10-24T03:28:20Z   \n",
       "\n",
       "                                                    text  isAnonymous  \\\n",
       "44962                                กินกี่ครั้งก็อร่อย         False   \n",
       "13744          ผัดกระเพราไม่อร่อยไห้น้อย แต่โรตีอร่อยมาก        False   \n",
       "14861                              อร่อย แต่รอนานไปหน่อย        False   \n",
       "35514  ให้อย่างเยอะเลยอะ อร่อย แต่ติดเค็มนิดนึง รอนาน...        False   \n",
       "32680                                     บานอฟฟี่อร่อยย        False   \n",
       "\n",
       "      reviewerId replies  likeCount  isLiked  overall  restaurant_food  rider  \n",
       "44962   thzru9wc      []        0.0    False        5                5    5.0  \n",
       "13744   thall2i7      []        1.0    False        2                2    NaN  \n",
       "14861   thlcb8hl      []        0.0    False        5                5    5.0  \n",
       "35514   th6811ou      []        0.0    False        5                5    5.0  \n",
       "32680   thv5qk37      []        0.0    False        5                5    NaN  "
      ]
     },
     "execution_count": 4,
     "metadata": {},
     "output_type": "execute_result"
    }
   ],
   "source": [
    "print(df.columns.tolist())\n",
    "print(df.dtypes)\n",
    "print(df.isna().mean().sort_values(ascending=False).head(10))\n",
    "df.sample(5, random_state=42)"
   ]
  },
  {
   "cell_type": "code",
   "execution_count": 5,
   "metadata": {
    "gather": {
     "logged": 1758275969957
    }
   },
   "outputs": [
    {
     "name": "stdout",
     "output_type": "stream",
     "text": [
      "Nulls in createdAt/updatedAt:\n",
      "createdAt    0.0\n",
      "updatedAt    0.0\n",
      "dtype: float64\n",
      "\n",
      "CreatedAt min/max:\n",
      "2023-03-19 22:17:54+00:00  ->  2024-03-20 05:01:04+00:00\n",
      "\n",
      "Any empty text rows?\n",
      "0\n"
     ]
    }
   ],
   "source": [
    "pd.set_option(\"display.max_columns\", 50)\n",
    "\n",
    "# Parse ISO timestamps\n",
    "df[\"createdAt\"] = pd.to_datetime(df[\"createdAt\"], errors=\"coerce\", utc=True)\n",
    "df[\"updatedAt\"] = pd.to_datetime(df[\"updatedAt\"], errors=\"coerce\", utc=True)\n",
    "\n",
    "print(\"Nulls in createdAt/updatedAt:\")\n",
    "print(df[[\"createdAt\",\"updatedAt\"]].isna().mean())\n",
    "\n",
    "print(\"\\nCreatedAt min/max:\")\n",
    "print(df[\"createdAt\"].min(), \" -> \", df[\"createdAt\"].max())\n",
    "\n",
    "print(\"\\nAny empty text rows?\")\n",
    "print(((df[\"text\"].astype(str).str.strip()==\"\") | df[\"text\"].isna()).sum())\n"
   ]
  },
  {
   "cell_type": "markdown",
   "metadata": {
    "nteract": {
     "transient": {
      "deleting": false
     }
    }
   },
   "source": []
  },
  {
   "cell_type": "code",
   "execution_count": 6,
   "metadata": {
    "gather": {
     "logged": 1758276009774
    }
   },
   "outputs": [
    {
     "name": "stdout",
     "output_type": "stream",
     "text": [
      "overall value_counts:\n",
      "1     9043\n",
      "2     3776\n",
      "3     5408\n",
      "4     5603\n",
      "5    28655\n",
      "Name: overall, dtype: int64\n",
      "\n",
      "Proposed sentiment distribution:\n",
      "positive    34258\n",
      "negative    12819\n",
      "neutral      5408\n",
      "Name: overall, dtype: int64\n"
     ]
    }
   ],
   "source": [
    "print(\"overall value_counts:\")\n",
    "print(df[\"overall\"].value_counts(dropna=False).sort_index())\n",
    "\n",
    "# Quick sentiment mapping preview (no mutation yet)\n",
    "def map_sentiment(x):\n",
    "    if pd.isna(x): return pd.NA\n",
    "    x = int(x)\n",
    "    if x in (4,5): return \"positive\"\n",
    "    if x == 3:     return \"neutral\"\n",
    "    if x in (1,2): return \"negative\"\n",
    "    return pd.NA\n",
    "\n",
    "temp_sent = df[\"overall\"].apply(map_sentiment)\n",
    "print(\"\\nProposed sentiment distribution:\")\n",
    "print(temp_sent.value_counts(dropna=False))\n"
   ]
  },
  {
   "cell_type": "code",
   "execution_count": 7,
   "metadata": {
    "gather": {
     "logged": 1758276040928
    }
   },
   "outputs": [
    {
     "name": "stdout",
     "output_type": "stream",
     "text": [
      "rider NaN rate: 0.5184909974278366\n",
      "\n",
      "likeCount describe():\n",
      "count    52485.000000\n",
      "mean         0.074174\n",
      "std          0.299704\n",
      "min         -1.000000\n",
      "50%          0.000000\n",
      "90%          0.000000\n",
      "99%          1.000000\n",
      "max          8.000000\n",
      "Name: likeCount, dtype: float64\n",
      "\n",
      "Capped likeCount describe():\n",
      "count    52485.000000\n",
      "mean         0.066343\n",
      "std          0.248883\n",
      "min          0.000000\n",
      "25%          0.000000\n",
      "50%          0.000000\n",
      "75%          0.000000\n",
      "max          1.000000\n",
      "Name: likeCount_capped, dtype: float64\n"
     ]
    }
   ],
   "source": [
    "# rider has ~51.8% NaN per your output\n",
    "print(\"rider NaN rate:\", df[\"rider\"].isna().mean())\n",
    "\n",
    "# Convert likeCount to numeric, cap outliers, show summary\n",
    "df[\"likeCount\"] = pd.to_numeric(df[\"likeCount\"], errors=\"coerce\")\n",
    "print(\"\\nlikeCount describe():\")\n",
    "print(df[\"likeCount\"].describe(percentiles=[0.5,0.9,0.99]))\n",
    "\n",
    "# Optional cap to reduce skew for tabular runs\n",
    "df[\"likeCount_capped\"] = df[\"likeCount\"].clip(lower=0, upper=df[\"likeCount\"].quantile(0.99))\n",
    "print(\"\\nCapped likeCount describe():\")\n",
    "print(df[\"likeCount_capped\"].describe())\n"
   ]
  },
  {
   "cell_type": "code",
   "execution_count": 8,
   "metadata": {
    "gather": {
     "logged": 1758276065553
    }
   },
   "outputs": [
    {
     "name": "stdout",
     "output_type": "stream",
     "text": [
      "replies_count value_counts (top 5):\n",
      "0    50547\n",
      "1     1938\n",
      "Name: replies_count, dtype: int64\n"
     ]
    }
   ],
   "source": [
    "# Ensure booleans are 0/1 (some pipelines prefer ints)\n",
    "df[\"isAnonymous\"] = df[\"isAnonymous\"].astype(int)\n",
    "df[\"isLiked\"] = df[\"isLiked\"].astype(int)\n",
    "\n",
    "# replies appears as a JSON-like string \"[]\"; extract count safely\n",
    "import ast\n",
    "\n",
    "def safe_len_list(s):\n",
    "    if pd.isna(s): return 0\n",
    "    s = str(s).strip()\n",
    "    try:\n",
    "        obj = ast.literal_eval(s)\n",
    "        return len(obj) if isinstance(obj, list) else 0\n",
    "    except Exception:\n",
    "        return 0\n",
    "\n",
    "df[\"replies_count\"] = df[\"replies\"].apply(safe_len_list)\n",
    "print(\"replies_count value_counts (top 5):\")\n",
    "print(df[\"replies_count\"].value_counts().head())\n"
   ]
  },
  {
   "cell_type": "code",
   "execution_count": 9,
   "metadata": {
    "gather": {
     "logged": 1758276097455
    }
   },
   "outputs": [
    {
     "name": "stdout",
     "output_type": "stream",
     "text": [
      "Sentiment distribution after filtering:\n",
      "positive    34258\n",
      "negative    12819\n",
      "neutral      5408\n",
      "Name: sentiment, dtype: int64\n",
      "\n",
      "Preview engineered columns:\n",
      "                                                text  overall sentiment  \\\n",
      "0                         Best food ever. Literally!        5  positive   \n",
      "1  The meat was far INFERIOR to what I expected.....        3   neutral   \n",
      "2  อร่อย หมูกรอบสับชิ้นใหญ่ค่ะ ชอบ แถมให้ซอสซีอิ้...        5  positive   \n",
      "\n",
      "   isAnonymous  isLiked  likeCount_capped  replies_count StoreId  \\\n",
      "0            0        0               0.0              0    zn0n   \n",
      "1            0        0               0.0              0    geap   \n",
      "2            0        0               0.0              1    wej9   \n",
      "\n",
      "   created_year  created_month  created_dow  created_hour  \n",
      "0          2023             12            4            14  \n",
      "1          2023              7            4            14  \n",
      "2          2024              1            1            11  \n"
     ]
    }
   ],
   "source": [
    "# Create sentiment column\n",
    "df[\"sentiment\"] = df[\"overall\"].apply(map_sentiment)\n",
    "\n",
    "# Drop rows without text or sentiment\n",
    "df = df[~df[\"text\"].isna() & (df[\"text\"].astype(str).str.strip()!=\"\")]\n",
    "df = df[~df[\"sentiment\"].isna()]\n",
    "\n",
    "# Date features\n",
    "df[\"created_year\"]  = df[\"createdAt\"].dt.year\n",
    "df[\"created_month\"] = df[\"createdAt\"].dt.month\n",
    "df[\"created_dow\"]   = df[\"createdAt\"].dt.dayofweek\n",
    "df[\"created_hour\"]  = df[\"createdAt\"].dt.hour\n",
    "\n",
    "# High-cardinality IDs to drop from modeling (keep a copy if you want lineage)\n",
    "id_cols = [\"uuid\",\"reviewerId\",\"updatedAt\"]\n",
    "keep_ids = df[id_cols].copy()\n",
    "df_model = df.drop(columns=[c for c in id_cols if c in df.columns])\n",
    "\n",
    "print(\"Sentiment distribution after filtering:\")\n",
    "print(df_model[\"sentiment\"].value_counts())\n",
    "\n",
    "print(\"\\nPreview engineered columns:\")\n",
    "print(df_model[[\"text\",\"overall\",\"sentiment\",\"isAnonymous\",\"isLiked\",\"likeCount_capped\",\"replies_count\",\"StoreId\",\"created_year\",\"created_month\",\"created_dow\",\"created_hour\"]].head(3))\n"
   ]
  },
  {
   "cell_type": "code",
   "execution_count": 14,
   "metadata": {
    "gather": {
     "logged": 1758276252941
    }
   },
   "outputs": [
    {
     "name": "stdout",
     "output_type": "stream",
     "text": [
      "Final dtypes snapshot:\n",
      "StoreId                          object\n",
      "createdAt           datetime64[ns, UTC]\n",
      "text                             object\n",
      "isAnonymous                       int64\n",
      "replies                          object\n",
      "likeCount                       float64\n",
      "isLiked                           int64\n",
      "overall                           int64\n",
      "restaurant_food                   int64\n",
      "rider                           float64\n",
      "likeCount_capped                float64\n",
      "replies_count                     int64\n",
      "sentiment                        object\n",
      "created_year                      int64\n",
      "created_month                     int64\n",
      "created_dow                       int64\n",
      "created_hour                      int64\n",
      "dtype: object\n",
      "Saved: rjk233, rows=52,485\n"
     ]
    }
   ],
   "source": [
    "print(\"Final dtypes snapshot:\")\n",
    "print(df_model.dtypes)\n",
    "\n",
    "# Save for AutoML use (parquet is efficient)\n",
    "out_path = \"rjk233\"\n",
    "df_model.to_parquet(out_path, index=False)\n",
    "print(f\"Saved: {out_path}, rows={len(df_model):,}\")\n"
   ]
  },
  {
   "cell_type": "code",
   "execution_count": 15,
   "metadata": {
    "gather": {
     "logged": 1758276288790
    }
   },
   "outputs": [
    {
     "name": "stdout",
     "output_type": "stream",
     "text": [
      "Class balance:\n",
      "positive    65.27%\n",
      "negative    24.42%\n",
      "neutral      10.3%\n",
      "Name: sentiment, dtype: object\n",
      "\n",
      "Text length describe():\n",
      "count    52485.000000\n",
      "mean        51.517634\n",
      "std         46.126781\n",
      "min          1.000000\n",
      "25%         18.000000\n",
      "50%         36.000000\n",
      "75%         69.000000\n",
      "max        273.000000\n",
      "Name: text_len, dtype: float64\n",
      "\n",
      "Very short texts (<5 chars): 816\n"
     ]
    }
   ],
   "source": [
    "print(\"Class balance:\")\n",
    "print((df_model[\"sentiment\"].value_counts(normalize=True)*100).round(2).astype(str) + \"%\")\n",
    "\n",
    "df_model[\"text_len\"] = df_model[\"text\"].astype(str).str.len()\n",
    "print(\"\\nText length describe():\")\n",
    "print(df_model[\"text_len\"].describe())\n",
    "\n",
    "print(\"\\nVery short texts (<5 chars):\", (df_model[\"text_len\"]<5).sum())\n"
   ]
  }
 ],
 "metadata": {
  "kernel_info": {
   "name": "python310-sdkv2"
  },
  "kernelspec": {
   "display_name": "Python 3",
   "language": "python",
   "name": "python3"
  },
  "language_info": {
   "codemirror_mode": {
    "name": "ipython",
    "version": 3
   },
   "file_extension": ".py",
   "mimetype": "text/x-python",
   "name": "python",
   "nbconvert_exporter": "python",
   "pygments_lexer": "ipython3",
   "version": "3.12.7"
  },
  "microsoft": {
   "ms_spell_check": {
    "ms_spell_check_language": "en"
   }
  },
  "nteract": {
   "version": "nteract-front-end@1.0.0"
  }
 },
 "nbformat": 4,
 "nbformat_minor": 4
}
